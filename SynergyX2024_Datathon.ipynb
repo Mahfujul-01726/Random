{
  "nbformat": 4,
  "nbformat_minor": 0,
  "metadata": {
    "colab": {
      "provenance": [],
      "gpuType": "T4",
      "authorship_tag": "ABX9TyPiAIXN/SPkEuwboPlsmIHx",
      "include_colab_link": true
    },
    "kernelspec": {
      "name": "python3",
      "display_name": "Python 3"
    },
    "language_info": {
      "name": "python"
    },
    "accelerator": "GPU"
  },
  "cells": [
    {
      "cell_type": "markdown",
      "metadata": {
        "id": "view-in-github",
        "colab_type": "text"
      },
      "source": [
        "<a href=\"https://colab.research.google.com/github/Mahfujul-01726/Random/blob/main/SynergyX2024_Datathon.ipynb\" target=\"_parent\"><img src=\"https://colab.research.google.com/assets/colab-badge.svg\" alt=\"Open In Colab\"/></a>"
      ]
    },
    {
      "cell_type": "code",
      "source": [
        "data.shape"
      ],
      "metadata": {
        "colab": {
          "base_uri": "https://localhost:8080/"
        },
        "id": "hPFkVPK3XHHD",
        "outputId": "1738c3ce-e487-4439-b0b9-fa34e52662c4"
      },
      "execution_count": null,
      "outputs": [
        {
          "output_type": "execute_result",
          "data": {
            "text/plain": [
              "(621165, 68)"
            ]
          },
          "metadata": {},
          "execution_count": 24
        }
      ]
    },
    {
      "cell_type": "code",
      "source": [
        "# Count NaN values in the target column 'v16'\n",
        "nan_count = final_df['v16'].isna().sum()\n",
        "\n",
        "print(f\"Number of NaN values in 'v16': {nan_count}\")"
      ],
      "metadata": {
        "colab": {
          "base_uri": "https://localhost:8080/"
        },
        "id": "E_gsCyxh7Zjc",
        "outputId": "550a7980-f676-45b2-cdd4-230ecfc6aff2"
      },
      "execution_count": null,
      "outputs": [
        {
          "output_type": "stream",
          "name": "stdout",
          "text": [
            "Number of NaN values in 'v16': 0\n"
          ]
        }
      ]
    },
    {
      "cell_type": "code",
      "source": [
        "import pandas as pd\n",
        "from sklearn.ensemble import RandomForestClassifier  # Use RandomForestRegressor for regression tasks\n",
        "from sklearn.model_selection import train_test_split\n",
        "from sklearn.metrics import accuracy_score, classification_report  # For classification tasks\n",
        "from sklearn.impute import SimpleImputer  # For imputing missing target values\n",
        "\n",
        "# Load the dataset\n",
        "data = pd.read_csv(\"train.csv\")\n",
        "\n",
        "# Separate features and target\n",
        "X = data.drop(columns=['v16'], errors='ignore')  # Feature matrix without target column\n",
        "y = data['v16'] if 'v16' in data.columns else None  # Target variable\n",
        "\n",
        "# Drop non-numeric columns from features, assuming 'id' is retained separately for later merging\n",
        "X_numeric = X.select_dtypes(include=[int, float])\n",
        "\n",
        "# Impute missing values in the feature matrix using the mean (for numeric features)\n",
        "imputer = SimpleImputer(strategy='mean')\n",
        "X_imputed = imputer.fit_transform(X_numeric)\n",
        "\n",
        "# Initialize the SimpleImputer for the target variable 'v16' (impute with the most frequent class)\n",
        "y_imputer = SimpleImputer(strategy='most_frequent')  # For classification, you can also use 'mean' for regression\n",
        "y_imputed = y_imputer.fit_transform(data[['v16']])\n",
        "\n",
        "# Split the dataset into training and testing sets\n",
        "X_train, X_test, y_train, y_test = train_test_split(X_imputed, y_imputed.ravel(), test_size=0.2, random_state=42)\n",
        "\n",
        "# Initialize the Random Forest Classifier (use RandomForestRegressor if it's a regression task)\n",
        "rf_model = RandomForestClassifier(n_estimators=100, random_state=42)  # Adjust parameters as needed\n",
        "\n",
        "# Train the model\n",
        "rf_model.fit(X_train, y_train)\n",
        "\n",
        "# Predict on the test set\n",
        "y_pred = rf_model.predict(X_test)\n",
        "\n",
        "# Evaluate the model (for classification)\n",
        "print(\"Accuracy:\", accuracy_score(y_test, y_pred))\n",
        "print(\"Classification Report:\")\n",
        "print(classification_report(y_test, y_pred))\n",
        "\n",
        "# If it's a regression problem, you can use the following metrics instead:\n",
        "# from sklearn.metrics import mean_squared_error, r2_score\n",
        "# print(\"Mean Squared Error:\", mean_squared_error(y_test, y_pred))\n",
        "# print(\"R^2 Score:\", r2_score(y_test, y_pred))\n"
      ],
      "metadata": {
        "colab": {
          "base_uri": "https://localhost:8080/"
        },
        "id": "5kM1tMdxsxcK",
        "outputId": "e06d54ee-bed7-4784-ccd4-45a106b10be0"
      },
      "execution_count": null,
      "outputs": [
        {
          "output_type": "stream",
          "name": "stdout",
          "text": [
            "Accuracy: 0.9772685196364895\n",
            "Classification Report:\n",
            "              precision    recall  f1-score   support\n",
            "\n",
            "         0.0       0.98      1.00      0.99    121237\n",
            "         1.0       0.89      0.07      0.12      2996\n",
            "\n",
            "    accuracy                           0.98    124233\n",
            "   macro avg       0.93      0.53      0.56    124233\n",
            "weighted avg       0.98      0.98      0.97    124233\n",
            "\n"
          ]
        }
      ]
    },
    {
      "cell_type": "markdown",
      "source": [
        "# Suppose it is final code"
      ],
      "metadata": {
        "id": "bTfteOsbfxvX"
      }
    },
    {
      "cell_type": "code",
      "source": [
        "import pandas as pd\n",
        "from sklearn.decomposition import PCA\n",
        "from sklearn.preprocessing import StandardScaler\n",
        "from sklearn.impute import SimpleImputer\n",
        "from sklearn.ensemble import RandomForestClassifier  # Use RandomForestRegressor if regression task\n",
        "from sklearn.model_selection import train_test_split\n",
        "from sklearn.metrics import accuracy_score, classification_report  # For classification tasks\n",
        "# from sklearn.metrics import mean_squared_error, r2_score  # Uncomment for regression tasks\n",
        "\n",
        "# Load the dataset\n",
        "data = pd.read_csv(\"train.csv\")\n",
        "\n",
        "# Separate features and target\n",
        "X = data.drop(columns=['v16'], errors='ignore')  # Feature matrix without target column\n",
        "y = data['v16'] if 'v16' in data.columns else None  # Target variable\n",
        "\n",
        "# Drop non-numeric columns from features, assuming 'id' is retained separately for later merging\n",
        "X_numeric = X.select_dtypes(include=[int, float])\n",
        "\n",
        "# Impute missing values in the feature matrix using the mean\n",
        "imputer = SimpleImputer(strategy='mean')\n",
        "X_imputed = imputer.fit_transform(X_numeric)\n",
        "\n",
        "# Standardize the features\n",
        "scaler = StandardScaler()\n",
        "X_scaled = scaler.fit_transform(X_imputed)\n",
        "\n",
        "# Apply PCA to retain 95% of the variance\n",
        "pca = PCA(0.95)\n",
        "X_pca = pca.fit_transform(X_scaled)\n",
        "\n",
        "# Create a DataFrame with the principal components\n",
        "pca_columns = [f'PC{i+1}' for i in range(X_pca.shape[1])]\n",
        "X_pca_df = pd.DataFrame(data=X_pca, columns=pca_columns)\n",
        "\n",
        "# Combine with the original 'id' column if it exists\n",
        "if 'id' in data.columns:\n",
        "    final_df = pd.concat([data[['id']].reset_index(drop=True), X_pca_df], axis=1)\n",
        "else:\n",
        "    print(\"Warning: 'id' column not found in the original data. Proceeding without it.\")\n",
        "    final_df = X_pca_df\n",
        "\n",
        "# Handle missing values in the target variable 'v16' using imputation\n",
        "if y is not None:\n",
        "    target_imputer = SimpleImputer(strategy='most_frequent')  # Impute with the most frequent class for classification\n",
        "    y_imputed = target_imputer.fit_transform(y.values.reshape(-1, 1))  # Reshaping for imputation\n",
        "\n",
        "    # Add the imputed target variable back to the final DataFrame\n",
        "    final_df = pd.concat([final_df, pd.Series(y_imputed.flatten(), name='v16').reset_index(drop=True)], axis=1)\n",
        "\n",
        "# Split the dataset into training and testing sets\n",
        "X_train, X_test, y_train, y_test = train_test_split(final_df.drop(columns=['v16'], errors='ignore'),\n",
        "                                                    final_df['v16'],\n",
        "                                                    test_size=0.2,\n",
        "                                                    random_state=42)\n",
        "\n",
        "# Initialize the Random Forest Classifier (use RandomForestRegressor for regression tasks)\n",
        "rf_model = RandomForestClassifier(n_estimators=100, random_state=42)  # You can adjust the parameters\n",
        "\n",
        "# Train the model\n",
        "rf_model.fit(X_train, y_train)\n",
        "\n",
        "# Predict on the test set\n",
        "y_pred = rf_model.predict(X_test)\n",
        "\n",
        "# Evaluate the model (for classification)\n",
        "print(\"Accuracy:\", accuracy_score(y_test, y_pred))\n",
        "print(\"Classification Report:\")\n",
        "print(classification_report(y_test, y_pred))\n",
        "\n",
        "# If it's a regression problem, you can use the following metrics instead:\n",
        "# from sklearn.metrics import mean_squared_error, r2_score\n",
        "# print(\"Mean Squared Error:\", mean_squared_error(y_test, y_pred))\n",
        "# print(\"R^2 Score:\", r2_score(y_test, y_pred))\n"
      ],
      "metadata": {
        "colab": {
          "base_uri": "https://localhost:8080/"
        },
        "id": "YgQ43dEMsxGE",
        "outputId": "df5b5097-d261-4e96-a03f-ff9211b116e2"
      },
      "execution_count": null,
      "outputs": [
        {
          "output_type": "stream",
          "name": "stdout",
          "text": [
            "Accuracy: 0.9758759749824926\n",
            "Classification Report:\n",
            "              precision    recall  f1-score   support\n",
            "\n",
            "         0.0       0.98      1.00      0.99    121237\n",
            "         1.0       0.47      0.00      0.01      2996\n",
            "\n",
            "    accuracy                           0.98    124233\n",
            "   macro avg       0.72      0.50      0.50    124233\n",
            "weighted avg       0.96      0.98      0.96    124233\n",
            "\n"
          ]
        }
      ]
    },
    {
      "cell_type": "markdown",
      "source": [
        "# importing dataset and merge"
      ],
      "metadata": {
        "id": "f9DMcv1O2WXj"
      }
    },
    {
      "cell_type": "code",
      "source": [
        "import pandas as pd\n",
        "\n",
        "# Load the datasets\n",
        "df1 = pd.read_csv('train.csv')\n",
        "df2 = pd.read_csv('test.csv')\n",
        "\n",
        "# Define the columns to merge on, excluding 'v16'\n",
        "merge_columns = ['id'] + [f'v{i}' for i in range(1, 68) if i != 16]  # Excludes 'v16'\n",
        "\n",
        "# Step 1: Merge DataFrames based on specified columns (merging columns)\n",
        "merged_columns_df = pd.merge(df1, df2, on=merge_columns, how='inner')  # Adjust 'how' as needed (inner, outer, left, right)\n",
        "\n",
        "# Step 2: Concatenate rows (row-wise merge)\n",
        "merged_rows_columns_df = pd.concat([merged_columns_df, df1, df2], axis=0, ignore_index=True).drop_duplicates()\n",
        "\n",
        "# View the final merged DataFrame\n",
        "merged_rows_columns_df.head()\n"
      ],
      "metadata": {
        "colab": {
          "base_uri": "https://localhost:8080/",
          "height": 255
        },
        "id": "tZN83lOI0M-O",
        "outputId": "13a45a4b-cf10-442e-f326-fe5482acf691"
      },
      "execution_count": 15,
      "outputs": [
        {
          "output_type": "execute_result",
          "data": {
            "text/plain": [
              "   id        v1        v2       v3       v4       v5  v6     v7      v8  v9  \\\n",
              "0   1  36802507  39555223  10000.0  10000.0  10000.0   0  12.39  334.01   2   \n",
              "1   2  34373063  37036411  20000.0  20000.0  20000.0   1  16.49  491.59   3   \n",
              "2   3  39329649  42133381   8000.0   8000.0   8000.0   0   9.49  256.23   1   \n",
              "3   4  54898516  58469236  16000.0  16000.0  16000.0   0  11.53  527.85   1   \n",
              "4   5  42513663  45480375  10200.0  10200.0  10200.0   0  18.25  370.04   4   \n",
              "\n",
              "   ...  v58  v59  v60  v61  v62 v63      v64  v65  v66  v67  \n",
              "0  ...  NaN  NaN  NaN  NaN  NaN NaN   8400.0  NaN  NaN  NaN  \n",
              "1  ...  NaN  NaN  NaN  NaN  NaN NaN  12100.0  NaN  NaN  NaN  \n",
              "2  ...  NaN  NaN  NaN  NaN  NaN NaN  16000.0  NaN  NaN  NaN  \n",
              "3  ...  NaN  NaN  NaN  NaN  NaN NaN   8300.0  NaN  NaN  NaN  \n",
              "4  ...  NaN  NaN  NaN  NaN  NaN NaN  19600.0  NaN  NaN  NaN  \n",
              "\n",
              "[5 rows x 68 columns]"
            ],
            "text/html": [
              "\n",
              "  <div id=\"df-1b6ffd8f-6c38-43fd-99e0-4976e7036348\" class=\"colab-df-container\">\n",
              "    <div>\n",
              "<style scoped>\n",
              "    .dataframe tbody tr th:only-of-type {\n",
              "        vertical-align: middle;\n",
              "    }\n",
              "\n",
              "    .dataframe tbody tr th {\n",
              "        vertical-align: top;\n",
              "    }\n",
              "\n",
              "    .dataframe thead th {\n",
              "        text-align: right;\n",
              "    }\n",
              "</style>\n",
              "<table border=\"1\" class=\"dataframe\">\n",
              "  <thead>\n",
              "    <tr style=\"text-align: right;\">\n",
              "      <th></th>\n",
              "      <th>id</th>\n",
              "      <th>v1</th>\n",
              "      <th>v2</th>\n",
              "      <th>v3</th>\n",
              "      <th>v4</th>\n",
              "      <th>v5</th>\n",
              "      <th>v6</th>\n",
              "      <th>v7</th>\n",
              "      <th>v8</th>\n",
              "      <th>v9</th>\n",
              "      <th>...</th>\n",
              "      <th>v58</th>\n",
              "      <th>v59</th>\n",
              "      <th>v60</th>\n",
              "      <th>v61</th>\n",
              "      <th>v62</th>\n",
              "      <th>v63</th>\n",
              "      <th>v64</th>\n",
              "      <th>v65</th>\n",
              "      <th>v66</th>\n",
              "      <th>v67</th>\n",
              "    </tr>\n",
              "  </thead>\n",
              "  <tbody>\n",
              "    <tr>\n",
              "      <th>0</th>\n",
              "      <td>1</td>\n",
              "      <td>36802507</td>\n",
              "      <td>39555223</td>\n",
              "      <td>10000.0</td>\n",
              "      <td>10000.0</td>\n",
              "      <td>10000.0</td>\n",
              "      <td>0</td>\n",
              "      <td>12.39</td>\n",
              "      <td>334.01</td>\n",
              "      <td>2</td>\n",
              "      <td>...</td>\n",
              "      <td>NaN</td>\n",
              "      <td>NaN</td>\n",
              "      <td>NaN</td>\n",
              "      <td>NaN</td>\n",
              "      <td>NaN</td>\n",
              "      <td>NaN</td>\n",
              "      <td>8400.0</td>\n",
              "      <td>NaN</td>\n",
              "      <td>NaN</td>\n",
              "      <td>NaN</td>\n",
              "    </tr>\n",
              "    <tr>\n",
              "      <th>1</th>\n",
              "      <td>2</td>\n",
              "      <td>34373063</td>\n",
              "      <td>37036411</td>\n",
              "      <td>20000.0</td>\n",
              "      <td>20000.0</td>\n",
              "      <td>20000.0</td>\n",
              "      <td>1</td>\n",
              "      <td>16.49</td>\n",
              "      <td>491.59</td>\n",
              "      <td>3</td>\n",
              "      <td>...</td>\n",
              "      <td>NaN</td>\n",
              "      <td>NaN</td>\n",
              "      <td>NaN</td>\n",
              "      <td>NaN</td>\n",
              "      <td>NaN</td>\n",
              "      <td>NaN</td>\n",
              "      <td>12100.0</td>\n",
              "      <td>NaN</td>\n",
              "      <td>NaN</td>\n",
              "      <td>NaN</td>\n",
              "    </tr>\n",
              "    <tr>\n",
              "      <th>2</th>\n",
              "      <td>3</td>\n",
              "      <td>39329649</td>\n",
              "      <td>42133381</td>\n",
              "      <td>8000.0</td>\n",
              "      <td>8000.0</td>\n",
              "      <td>8000.0</td>\n",
              "      <td>0</td>\n",
              "      <td>9.49</td>\n",
              "      <td>256.23</td>\n",
              "      <td>1</td>\n",
              "      <td>...</td>\n",
              "      <td>NaN</td>\n",
              "      <td>NaN</td>\n",
              "      <td>NaN</td>\n",
              "      <td>NaN</td>\n",
              "      <td>NaN</td>\n",
              "      <td>NaN</td>\n",
              "      <td>16000.0</td>\n",
              "      <td>NaN</td>\n",
              "      <td>NaN</td>\n",
              "      <td>NaN</td>\n",
              "    </tr>\n",
              "    <tr>\n",
              "      <th>3</th>\n",
              "      <td>4</td>\n",
              "      <td>54898516</td>\n",
              "      <td>58469236</td>\n",
              "      <td>16000.0</td>\n",
              "      <td>16000.0</td>\n",
              "      <td>16000.0</td>\n",
              "      <td>0</td>\n",
              "      <td>11.53</td>\n",
              "      <td>527.85</td>\n",
              "      <td>1</td>\n",
              "      <td>...</td>\n",
              "      <td>NaN</td>\n",
              "      <td>NaN</td>\n",
              "      <td>NaN</td>\n",
              "      <td>NaN</td>\n",
              "      <td>NaN</td>\n",
              "      <td>NaN</td>\n",
              "      <td>8300.0</td>\n",
              "      <td>NaN</td>\n",
              "      <td>NaN</td>\n",
              "      <td>NaN</td>\n",
              "    </tr>\n",
              "    <tr>\n",
              "      <th>4</th>\n",
              "      <td>5</td>\n",
              "      <td>42513663</td>\n",
              "      <td>45480375</td>\n",
              "      <td>10200.0</td>\n",
              "      <td>10200.0</td>\n",
              "      <td>10200.0</td>\n",
              "      <td>0</td>\n",
              "      <td>18.25</td>\n",
              "      <td>370.04</td>\n",
              "      <td>4</td>\n",
              "      <td>...</td>\n",
              "      <td>NaN</td>\n",
              "      <td>NaN</td>\n",
              "      <td>NaN</td>\n",
              "      <td>NaN</td>\n",
              "      <td>NaN</td>\n",
              "      <td>NaN</td>\n",
              "      <td>19600.0</td>\n",
              "      <td>NaN</td>\n",
              "      <td>NaN</td>\n",
              "      <td>NaN</td>\n",
              "    </tr>\n",
              "  </tbody>\n",
              "</table>\n",
              "<p>5 rows × 68 columns</p>\n",
              "</div>\n",
              "    <div class=\"colab-df-buttons\">\n",
              "\n",
              "  <div class=\"colab-df-container\">\n",
              "    <button class=\"colab-df-convert\" onclick=\"convertToInteractive('df-1b6ffd8f-6c38-43fd-99e0-4976e7036348')\"\n",
              "            title=\"Convert this dataframe to an interactive table.\"\n",
              "            style=\"display:none;\">\n",
              "\n",
              "  <svg xmlns=\"http://www.w3.org/2000/svg\" height=\"24px\" viewBox=\"0 -960 960 960\">\n",
              "    <path d=\"M120-120v-720h720v720H120Zm60-500h600v-160H180v160Zm220 220h160v-160H400v160Zm0 220h160v-160H400v160ZM180-400h160v-160H180v160Zm440 0h160v-160H620v160ZM180-180h160v-160H180v160Zm440 0h160v-160H620v160Z\"/>\n",
              "  </svg>\n",
              "    </button>\n",
              "\n",
              "  <style>\n",
              "    .colab-df-container {\n",
              "      display:flex;\n",
              "      gap: 12px;\n",
              "    }\n",
              "\n",
              "    .colab-df-convert {\n",
              "      background-color: #E8F0FE;\n",
              "      border: none;\n",
              "      border-radius: 50%;\n",
              "      cursor: pointer;\n",
              "      display: none;\n",
              "      fill: #1967D2;\n",
              "      height: 32px;\n",
              "      padding: 0 0 0 0;\n",
              "      width: 32px;\n",
              "    }\n",
              "\n",
              "    .colab-df-convert:hover {\n",
              "      background-color: #E2EBFA;\n",
              "      box-shadow: 0px 1px 2px rgba(60, 64, 67, 0.3), 0px 1px 3px 1px rgba(60, 64, 67, 0.15);\n",
              "      fill: #174EA6;\n",
              "    }\n",
              "\n",
              "    .colab-df-buttons div {\n",
              "      margin-bottom: 4px;\n",
              "    }\n",
              "\n",
              "    [theme=dark] .colab-df-convert {\n",
              "      background-color: #3B4455;\n",
              "      fill: #D2E3FC;\n",
              "    }\n",
              "\n",
              "    [theme=dark] .colab-df-convert:hover {\n",
              "      background-color: #434B5C;\n",
              "      box-shadow: 0px 1px 3px 1px rgba(0, 0, 0, 0.15);\n",
              "      filter: drop-shadow(0px 1px 2px rgba(0, 0, 0, 0.3));\n",
              "      fill: #FFFFFF;\n",
              "    }\n",
              "  </style>\n",
              "\n",
              "    <script>\n",
              "      const buttonEl =\n",
              "        document.querySelector('#df-1b6ffd8f-6c38-43fd-99e0-4976e7036348 button.colab-df-convert');\n",
              "      buttonEl.style.display =\n",
              "        google.colab.kernel.accessAllowed ? 'block' : 'none';\n",
              "\n",
              "      async function convertToInteractive(key) {\n",
              "        const element = document.querySelector('#df-1b6ffd8f-6c38-43fd-99e0-4976e7036348');\n",
              "        const dataTable =\n",
              "          await google.colab.kernel.invokeFunction('convertToInteractive',\n",
              "                                                    [key], {});\n",
              "        if (!dataTable) return;\n",
              "\n",
              "        const docLinkHtml = 'Like what you see? Visit the ' +\n",
              "          '<a target=\"_blank\" href=https://colab.research.google.com/notebooks/data_table.ipynb>data table notebook</a>'\n",
              "          + ' to learn more about interactive tables.';\n",
              "        element.innerHTML = '';\n",
              "        dataTable['output_type'] = 'display_data';\n",
              "        await google.colab.output.renderOutput(dataTable, element);\n",
              "        const docLink = document.createElement('div');\n",
              "        docLink.innerHTML = docLinkHtml;\n",
              "        element.appendChild(docLink);\n",
              "      }\n",
              "    </script>\n",
              "  </div>\n",
              "\n",
              "\n",
              "<div id=\"df-5719a607-2afe-48aa-aa4c-7fc166751fe4\">\n",
              "  <button class=\"colab-df-quickchart\" onclick=\"quickchart('df-5719a607-2afe-48aa-aa4c-7fc166751fe4')\"\n",
              "            title=\"Suggest charts\"\n",
              "            style=\"display:none;\">\n",
              "\n",
              "<svg xmlns=\"http://www.w3.org/2000/svg\" height=\"24px\"viewBox=\"0 0 24 24\"\n",
              "     width=\"24px\">\n",
              "    <g>\n",
              "        <path d=\"M19 3H5c-1.1 0-2 .9-2 2v14c0 1.1.9 2 2 2h14c1.1 0 2-.9 2-2V5c0-1.1-.9-2-2-2zM9 17H7v-7h2v7zm4 0h-2V7h2v10zm4 0h-2v-4h2v4z\"/>\n",
              "    </g>\n",
              "</svg>\n",
              "  </button>\n",
              "\n",
              "<style>\n",
              "  .colab-df-quickchart {\n",
              "      --bg-color: #E8F0FE;\n",
              "      --fill-color: #1967D2;\n",
              "      --hover-bg-color: #E2EBFA;\n",
              "      --hover-fill-color: #174EA6;\n",
              "      --disabled-fill-color: #AAA;\n",
              "      --disabled-bg-color: #DDD;\n",
              "  }\n",
              "\n",
              "  [theme=dark] .colab-df-quickchart {\n",
              "      --bg-color: #3B4455;\n",
              "      --fill-color: #D2E3FC;\n",
              "      --hover-bg-color: #434B5C;\n",
              "      --hover-fill-color: #FFFFFF;\n",
              "      --disabled-bg-color: #3B4455;\n",
              "      --disabled-fill-color: #666;\n",
              "  }\n",
              "\n",
              "  .colab-df-quickchart {\n",
              "    background-color: var(--bg-color);\n",
              "    border: none;\n",
              "    border-radius: 50%;\n",
              "    cursor: pointer;\n",
              "    display: none;\n",
              "    fill: var(--fill-color);\n",
              "    height: 32px;\n",
              "    padding: 0;\n",
              "    width: 32px;\n",
              "  }\n",
              "\n",
              "  .colab-df-quickchart:hover {\n",
              "    background-color: var(--hover-bg-color);\n",
              "    box-shadow: 0 1px 2px rgba(60, 64, 67, 0.3), 0 1px 3px 1px rgba(60, 64, 67, 0.15);\n",
              "    fill: var(--button-hover-fill-color);\n",
              "  }\n",
              "\n",
              "  .colab-df-quickchart-complete:disabled,\n",
              "  .colab-df-quickchart-complete:disabled:hover {\n",
              "    background-color: var(--disabled-bg-color);\n",
              "    fill: var(--disabled-fill-color);\n",
              "    box-shadow: none;\n",
              "  }\n",
              "\n",
              "  .colab-df-spinner {\n",
              "    border: 2px solid var(--fill-color);\n",
              "    border-color: transparent;\n",
              "    border-bottom-color: var(--fill-color);\n",
              "    animation:\n",
              "      spin 1s steps(1) infinite;\n",
              "  }\n",
              "\n",
              "  @keyframes spin {\n",
              "    0% {\n",
              "      border-color: transparent;\n",
              "      border-bottom-color: var(--fill-color);\n",
              "      border-left-color: var(--fill-color);\n",
              "    }\n",
              "    20% {\n",
              "      border-color: transparent;\n",
              "      border-left-color: var(--fill-color);\n",
              "      border-top-color: var(--fill-color);\n",
              "    }\n",
              "    30% {\n",
              "      border-color: transparent;\n",
              "      border-left-color: var(--fill-color);\n",
              "      border-top-color: var(--fill-color);\n",
              "      border-right-color: var(--fill-color);\n",
              "    }\n",
              "    40% {\n",
              "      border-color: transparent;\n",
              "      border-right-color: var(--fill-color);\n",
              "      border-top-color: var(--fill-color);\n",
              "    }\n",
              "    60% {\n",
              "      border-color: transparent;\n",
              "      border-right-color: var(--fill-color);\n",
              "    }\n",
              "    80% {\n",
              "      border-color: transparent;\n",
              "      border-right-color: var(--fill-color);\n",
              "      border-bottom-color: var(--fill-color);\n",
              "    }\n",
              "    90% {\n",
              "      border-color: transparent;\n",
              "      border-bottom-color: var(--fill-color);\n",
              "    }\n",
              "  }\n",
              "</style>\n",
              "\n",
              "  <script>\n",
              "    async function quickchart(key) {\n",
              "      const quickchartButtonEl =\n",
              "        document.querySelector('#' + key + ' button');\n",
              "      quickchartButtonEl.disabled = true;  // To prevent multiple clicks.\n",
              "      quickchartButtonEl.classList.add('colab-df-spinner');\n",
              "      try {\n",
              "        const charts = await google.colab.kernel.invokeFunction(\n",
              "            'suggestCharts', [key], {});\n",
              "      } catch (error) {\n",
              "        console.error('Error during call to suggestCharts:', error);\n",
              "      }\n",
              "      quickchartButtonEl.classList.remove('colab-df-spinner');\n",
              "      quickchartButtonEl.classList.add('colab-df-quickchart-complete');\n",
              "    }\n",
              "    (() => {\n",
              "      let quickchartButtonEl =\n",
              "        document.querySelector('#df-5719a607-2afe-48aa-aa4c-7fc166751fe4 button');\n",
              "      quickchartButtonEl.style.display =\n",
              "        google.colab.kernel.accessAllowed ? 'block' : 'none';\n",
              "    })();\n",
              "  </script>\n",
              "</div>\n",
              "\n",
              "    </div>\n",
              "  </div>\n"
            ],
            "application/vnd.google.colaboratory.intrinsic+json": {
              "type": "dataframe",
              "variable_name": "merged_rows_columns_df"
            }
          },
          "metadata": {},
          "execution_count": 15
        }
      ]
    },
    {
      "cell_type": "code",
      "source": [
        "merged_rows_columns_df.shape"
      ],
      "metadata": {
        "colab": {
          "base_uri": "https://localhost:8080/"
        },
        "id": "Z8wgZTxttI22",
        "outputId": "50558595-e0a7-47a7-b24a-32c6fe3dfd5f"
      },
      "execution_count": 16,
      "outputs": [
        {
          "output_type": "execute_result",
          "data": {
            "text/plain": [
              "(807899, 68)"
            ]
          },
          "metadata": {},
          "execution_count": 16
        }
      ]
    },
    {
      "cell_type": "code",
      "source": [
        "print(merged_rows_columns_df)"
      ],
      "metadata": {
        "colab": {
          "base_uri": "https://localhost:8080/"
        },
        "id": "nznsFaIitIx-",
        "outputId": "ddb637b0-7d33-4adc-a05e-2bb99ea5fa5f"
      },
      "execution_count": 17,
      "outputs": [
        {
          "output_type": "stream",
          "name": "stdout",
          "text": [
            "            id        v1        v2       v3       v4       v5  v6     v7  \\\n",
            "0            1  36802507  39555223  10000.0  10000.0  10000.0   0  12.39   \n",
            "1            2  34373063  37036411  20000.0  20000.0  20000.0   1  16.49   \n",
            "2            3  39329649  42133381   8000.0   8000.0   8000.0   0   9.49   \n",
            "3            4  54898516  58469236  16000.0  16000.0  16000.0   0  11.53   \n",
            "4            5  42513663  45480375  10200.0  10200.0  10200.0   0  18.25   \n",
            "...        ...       ...       ...      ...      ...      ...  ..    ...   \n",
            "807894  186730  22131285  24454239  10800.0  10800.0  10800.0   1  16.99   \n",
            "807895  186731  14570817  16633101  10725.0  10725.0  10725.0   0  17.57   \n",
            "807896  186732  34413316  37076669  16000.0  16000.0  16000.0   0   8.19   \n",
            "807897  186733  64997380  69524101  18000.0  18000.0  18000.0   1  12.59   \n",
            "807898  186734  56082809  59744686  23750.0  23750.0  23750.0   1  26.77   \n",
            "\n",
            "            v8  v9  ...  v58  v59  v60  v61  v62 v63      v64  v65  v66  v67  \n",
            "0       334.01   2  ...  NaN  NaN  NaN  NaN  NaN NaN   8400.0  NaN  NaN  NaN  \n",
            "1       491.59   3  ...  NaN  NaN  NaN  NaN  NaN NaN  12100.0  NaN  NaN  NaN  \n",
            "2       256.23   1  ...  NaN  NaN  NaN  NaN  NaN NaN  16000.0  NaN  NaN  NaN  \n",
            "3       527.85   1  ...  NaN  NaN  NaN  NaN  NaN NaN   8300.0  NaN  NaN  NaN  \n",
            "4       370.04   4  ...  NaN  NaN  NaN  NaN  NaN NaN  19600.0  NaN  NaN  NaN  \n",
            "...        ...  ..  ...  ...  ...  ...  ...  ...  ..      ...  ...  ...  ...  \n",
            "807894  268.35   3  ...  NaN  NaN  NaN  NaN  NaN NaN  15900.0  NaN  NaN  NaN  \n",
            "807895  385.43   3  ...  NaN  NaN  NaN  NaN  NaN NaN  64100.0  NaN  NaN  NaN  \n",
            "807896  502.79   0  ...  NaN  NaN  NaN  NaN  NaN NaN  42100.0  NaN  NaN  NaN  \n",
            "807897  405.79   2  ...  NaN  NaN  NaN  NaN  NaN NaN  12900.0  NaN  NaN  NaN  \n",
            "807898  721.96   6  ...  NaN  NaN  NaN  NaN  NaN NaN  52700.0  NaN  NaN  NaN  \n",
            "\n",
            "[807899 rows x 68 columns]\n"
          ]
        }
      ]
    },
    {
      "cell_type": "markdown",
      "source": [
        "# this is good approach for v16 value Predictive Imputation with a Classification Model"
      ],
      "metadata": {
        "id": "68kHCsoMGFyT"
      }
    },
    {
      "cell_type": "code",
      "source": [
        "import pandas as pd\n",
        "from sklearn.decomposition import PCA\n",
        "from sklearn.preprocessing import StandardScaler, LabelEncoder\n",
        "from sklearn.ensemble import RandomForestClassifier  # Use RandomForestClassifier for binary imputation\n",
        "from sklearn.impute import SimpleImputer\n",
        "\n",
        "# Load the dataset\n",
        "data = merged_rows_columns_df\n",
        "\n",
        "# Separate features and target\n",
        "X = data.drop(columns=['v16'], errors='ignore')  # Feature matrix without target column\n",
        "y = data['v16'] if 'v16' in data.columns else None  # Target variable\n",
        "\n",
        "# Identify non-numeric columns\n",
        "non_numeric_cols = X.select_dtypes(exclude=[int, float]).columns\n",
        "print(\"Non-numeric columns:\", non_numeric_cols)\n",
        "\n",
        "# Apply Label Encoding for non-numeric columns (Option 1: ordinal data)\n",
        "label_encoder = LabelEncoder()\n",
        "for col in non_numeric_cols:\n",
        "    X[col] = label_encoder.fit_transform(X[col])\n",
        "\n",
        "# Optionally, you could use one-hot encoding instead if appropriate for the data type\n",
        "# X = pd.get_dummies(X, columns=non_numeric_cols, drop_first=True)\n",
        "\n",
        "# Drop non-numeric columns from features (now they are encoded)\n",
        "X_numeric = X.select_dtypes(include=[int, float])\n",
        "\n",
        "# Impute missing values in the feature matrix using the mean\n",
        "imputer = SimpleImputer(strategy='mean')\n",
        "X_imputed = imputer.fit_transform(X_numeric)\n",
        "\n",
        "# Standardize the features\n",
        "scaler = StandardScaler()\n",
        "X_scaled = scaler.fit_transform(X_imputed)\n",
        "\n",
        "# Apply PCA to retain 95% of the variance\n",
        "pca = PCA(0.95)\n",
        "X_pca = pca.fit_transform(X_scaled)\n",
        "\n",
        "# Create a DataFrame with the principal components\n",
        "pca_columns = [f'PC{i+1}' for i in range(X_pca.shape[1])]\n",
        "X_pca_df = pd.DataFrame(data=X_pca, columns=pca_columns)\n",
        "\n",
        "# Combine with the original 'id' column if it exists\n",
        "if 'id' in data.columns:\n",
        "    final_df = pd.concat([data[['id']].reset_index(drop=True), X_pca_df], axis=1)\n",
        "else:\n",
        "    print(\"Warning: 'id' column not found in the original data. Proceeding without it.\")\n",
        "    final_df = X_pca_df\n",
        "\n",
        "# Predictive Imputation for the target variable 'v16' using a classifier\n",
        "if y is not None:\n",
        "    # Separate rows with and without missing values in v16\n",
        "    X_no_nan = X_pca_df[y.notna()].reset_index(drop=True)  # Rows without missing v16\n",
        "    y_no_nan = y.dropna().reset_index(drop=True)           # Target values without NaN\n",
        "    X_nan = X_pca_df[y.isna()].reset_index(drop=True)      # Rows with missing v16\n",
        "\n",
        "    # Train a RandomForestClassifier to predict missing values in v16\n",
        "    classifier = RandomForestClassifier()\n",
        "    classifier.fit(X_no_nan, y_no_nan)\n",
        "\n",
        "    # Predict missing values in v16\n",
        "    y_pred_nan = classifier.predict(X_nan)\n",
        "\n",
        "    # Fill missing values with the predicted values\n",
        "    y_imputed = y.copy()\n",
        "    y_imputed.loc[y.isna()] = y_pred_nan\n",
        "\n",
        "    # Add the imputed target variable back to the final DataFrame\n",
        "    final_df = pd.concat([final_df, pd.Series(y_imputed, name='v16').reset_index(drop=True)], axis=1)\n",
        "\n",
        "print(final_df)\n"
      ],
      "metadata": {
        "colab": {
          "base_uri": "https://localhost:8080/"
        },
        "id": "LN-xIkMWA41z",
        "outputId": "43225d51-eb04-487e-a408-1ad18aa54454"
      },
      "execution_count": 20,
      "outputs": [
        {
          "output_type": "stream",
          "name": "stdout",
          "text": [
            "Non-numeric columns: Index(['v15', 'v39', 'v41', 'v42'], dtype='object')\n",
            "            id       PC1       PC2       PC3       PC4       PC5       PC6  \\\n",
            "0            1 -1.906399 -0.230438  0.554499  0.864747 -0.163991 -2.054459   \n",
            "1            2  1.441092  1.595874  0.971041  1.719461 -0.306974 -0.222587   \n",
            "2            3 -2.778585 -0.133561 -0.266440 -0.115158 -0.303129 -2.555043   \n",
            "3            4 -1.163664  2.118228 -0.133977 -0.072008  0.130287  1.138558   \n",
            "4            5 -1.408326  0.480652  1.428213  2.021121 -0.133214  0.299666   \n",
            "...        ...       ...       ...       ...       ...       ...       ...   \n",
            "807894  186730 -0.673428  0.183702  1.538047  1.909149  0.195424  0.249856   \n",
            "807895  186731 -0.332331 -0.665859  0.753908  1.037999  0.092318 -0.101186   \n",
            "807896  186732 -0.047101  0.896069 -1.174028 -1.820856  0.158890 -0.126321   \n",
            "807897  186733 -0.107809  3.023788  0.514548  0.650291  0.061750 -0.261612   \n",
            "807898  186734  3.026031  3.281989  2.683374  3.515061  0.323666  0.870977   \n",
            "\n",
            "             PC7       PC8       PC9  ...      PC36      PC37      PC38  \\\n",
            "0      -0.307624  1.383685 -0.555901  ... -0.035617 -0.231410 -0.181567   \n",
            "1       0.429824 -1.321944  0.631264  ... -0.009694 -0.265364  0.131133   \n",
            "2      -0.260538  1.162021 -0.072248  ...  0.001274 -0.142657  0.293442   \n",
            "3       0.808279 -3.605249  1.753161  ...  0.087076  0.195266 -0.178401   \n",
            "4       0.094742 -0.058257 -0.445600  ... -0.102420 -0.160370 -2.067245   \n",
            "...          ...       ...       ...  ...       ...       ...       ...   \n",
            "807894  0.114040  0.461092 -0.975685  ... -0.021189 -0.333106  0.502631   \n",
            "807895 -0.029941  0.445527 -0.767133  ... -0.040783 -0.848484 -0.829698   \n",
            "807896 -0.070794  0.067952 -0.107593  ...  0.079337  0.251531 -0.127359   \n",
            "807897  0.063751 -0.078636  0.067766  ...  0.072658  0.244571  1.047974   \n",
            "807898 -0.022087  0.687609 -1.117409  ...  0.009489 -0.036372  0.204449   \n",
            "\n",
            "            PC39      PC40      PC41      PC42      PC43      PC44  v16  \n",
            "0       1.672394 -0.277228  0.828156 -0.223413 -0.420443 -0.296095  0.0  \n",
            "1       0.623544 -0.106209  0.249674  0.198071  0.343752  0.018042  0.0  \n",
            "2       1.018168 -0.144807  0.306442 -0.150772 -0.632306 -0.134799  0.0  \n",
            "3      -0.180756  0.025906 -0.016714  0.311220  0.545290  0.238519  0.0  \n",
            "4       2.192018 -0.348011 -0.362009  0.067185  0.615018  0.021694  0.0  \n",
            "...          ...       ...       ...       ...       ...       ...  ...  \n",
            "807894 -0.564366  0.059298  0.835299  0.069835 -0.098751 -0.053305  0.0  \n",
            "807895  0.474342 -0.089693 -1.017372  0.397988  0.741371  0.231273  0.0  \n",
            "807896 -0.562078  0.065527 -0.262442  0.213688  0.146149  0.180101  0.0  \n",
            "807897 -0.846698  0.099520  0.897792 -0.062333 -0.507292 -0.154336  0.0  \n",
            "807898 -0.017650  0.012030 -1.348737  0.597811  1.273813  0.422096  0.0  \n",
            "\n",
            "[807899 rows x 46 columns]\n"
          ]
        }
      ]
    },
    {
      "cell_type": "code",
      "source": [
        "import pandas as pd\n",
        "\n",
        "# Assuming your DataFrame is named df and the column is 'v16'\n",
        "count_0_1 = final_df['v16'].value_counts()\n",
        "\n",
        "print(count_0_1)\n"
      ],
      "metadata": {
        "colab": {
          "base_uri": "https://localhost:8080/"
        },
        "id": "F8cJD4RlNqf5",
        "outputId": "98551d0d-6359-4e59-b25f-6aea39edc4f2"
      },
      "execution_count": 24,
      "outputs": [
        {
          "output_type": "stream",
          "name": "stdout",
          "text": [
            "v16\n",
            "0.0    751025\n",
            "1.0     56874\n",
            "Name: count, dtype: int64\n"
          ]
        }
      ]
    },
    {
      "cell_type": "code",
      "source": [],
      "metadata": {
        "id": "0AOIa_lKMsPg"
      },
      "execution_count": null,
      "outputs": []
    },
    {
      "cell_type": "markdown",
      "source": [
        "# Used random forest algorithm"
      ],
      "metadata": {
        "id": "ZZPuQpHzKs6Z"
      }
    },
    {
      "cell_type": "code",
      "source": [
        "import pandas as pd\n",
        "from sklearn.decomposition import PCA\n",
        "from sklearn.preprocessing import StandardScaler, LabelEncoder\n",
        "from sklearn.ensemble import RandomForestClassifier\n",
        "from sklearn.impute import SimpleImputer\n",
        "from sklearn.model_selection import train_test_split\n",
        "from sklearn.metrics import accuracy_score, classification_report\n",
        "import joblib  # For saving the model\n",
        "\n",
        "\n",
        "# Now, train and evaluate a Random Forest model on the entire dataset\n",
        "\n",
        "# Split the data into train and test sets\n",
        "X_train, X_test, y_train, y_test = train_test_split(X_pca_df, y_imputed, test_size=0.2, random_state=42)\n",
        "\n",
        "# Initialize the RandomForestClassifier\n",
        "rf_model = RandomForestClassifier(n_estimators=100, random_state=42)\n",
        "\n",
        "# Train the model\n",
        "rf_model.fit(X_train, y_train)\n",
        "\n",
        "# Predict on the test set\n",
        "y_pred = rf_model.predict(X_test)\n",
        "\n",
        "# Evaluate the model (for classification)\n",
        "print(\"Accuracy:\", accuracy_score(y_test, y_pred))\n",
        "print(\"Classification Report:\")\n",
        "print(classification_report(y_test, y_pred))"
      ],
      "metadata": {
        "colab": {
          "base_uri": "https://localhost:8080/"
        },
        "id": "70UxZirlHd9j",
        "outputId": "03798ae6-3754-48a1-b784-9e83d8c05a87"
      },
      "execution_count": 21,
      "outputs": [
        {
          "output_type": "stream",
          "name": "stdout",
          "text": [
            "Accuracy: 0.9832900111399926\n",
            "Classification Report:\n",
            "              precision    recall  f1-score   support\n",
            "\n",
            "         0.0       0.99      1.00      0.99    150259\n",
            "         1.0       0.95      0.80      0.87     11321\n",
            "\n",
            "    accuracy                           0.98    161580\n",
            "   macro avg       0.97      0.90      0.93    161580\n",
            "weighted avg       0.98      0.98      0.98    161580\n",
            "\n"
          ]
        }
      ]
    },
    {
      "cell_type": "markdown",
      "source": [
        "# Apply Logistic regression algorithm"
      ],
      "metadata": {
        "id": "KCnAGEsYO1K3"
      }
    },
    {
      "cell_type": "code",
      "source": [
        "from sklearn.linear_model import LogisticRegression\n",
        "from sklearn.model_selection import train_test_split\n",
        "from sklearn.metrics import accuracy_score, classification_report\n",
        "\n",
        "# Split the data into train and test sets\n",
        "X_train, X_test, y_train, y_test = train_test_split(X_pca_df, y_imputed, test_size=0.2, random_state=42)\n",
        "\n",
        "# Initialize the Logistic Regression model\n",
        "logreg_model = LogisticRegression(random_state=42)\n",
        "\n",
        "# Train the model\n",
        "logreg_model.fit(X_train, y_train)\n",
        "\n",
        "# Predict on the test set\n",
        "y_pred = logreg_model.predict(X_test)\n",
        "\n",
        "# Evaluate the model (for classification)\n",
        "print(\"Accuracy:\", accuracy_score(y_test, y_pred))\n",
        "print(\"Classification Report:\")\n",
        "print(classification_report(y_test, y_pred))\n"
      ],
      "metadata": {
        "colab": {
          "base_uri": "https://localhost:8080/"
        },
        "id": "QK_Mwni1Hd7Y",
        "outputId": "a5c313df-a397-4bbd-b636-ae21014f81b8"
      },
      "execution_count": 25,
      "outputs": [
        {
          "output_type": "stream",
          "name": "stdout",
          "text": [
            "Accuracy: 0.9637517019433098\n",
            "Classification Report:\n",
            "              precision    recall  f1-score   support\n",
            "\n",
            "         0.0       0.97      0.99      0.98    150259\n",
            "         1.0       0.85      0.58      0.69     11321\n",
            "\n",
            "    accuracy                           0.96    161580\n",
            "   macro avg       0.91      0.79      0.84    161580\n",
            "weighted avg       0.96      0.96      0.96    161580\n",
            "\n"
          ]
        }
      ]
    },
    {
      "cell_type": "markdown",
      "source": [
        "# Apply K-Nearest Neighbors (KNN)"
      ],
      "metadata": {
        "id": "ieDYt_DWO9Tb"
      }
    },
    {
      "cell_type": "code",
      "source": [
        "from sklearn.neighbors import KNeighborsClassifier\n",
        "from sklearn.model_selection import train_test_split\n",
        "from sklearn.metrics import accuracy_score, classification_report\n",
        "\n",
        "# Split the data into train and test sets\n",
        "X_train, X_test, y_train, y_test = train_test_split(X_pca_df, y_imputed, test_size=0.2, random_state=42)\n",
        "\n",
        "# Initialize the KNeighborsClassifier model\n",
        "knn_model = KNeighborsClassifier(n_neighbors=5)  # You can experiment with different values for n_neighbors\n",
        "\n",
        "# Train the model\n",
        "knn_model.fit(X_train, y_train)\n",
        "\n",
        "# Predict on the test set\n",
        "y_pred = knn_model.predict(X_test)\n",
        "\n",
        "# Evaluate the model (for classification)\n",
        "print(\"Accuracy:\", accuracy_score(y_test, y_pred))\n",
        "print(\"Classification Report:\")\n",
        "print(classification_report(y_test, y_pred))\n"
      ],
      "metadata": {
        "id": "bx4SrVJqOoBp"
      },
      "execution_count": null,
      "outputs": []
    },
    {
      "cell_type": "markdown",
      "source": [
        "# Apply  Support Vector Machine (SVM) algorithm"
      ],
      "metadata": {
        "id": "62ExLxDNPIrE"
      }
    },
    {
      "cell_type": "code",
      "source": [
        "from sklearn.svm import SVC\n",
        "from sklearn.model_selection import train_test_split\n",
        "from sklearn.metrics import accuracy_score, classification_report\n",
        "\n",
        "# Split the data into train and test sets\n",
        "X_train, X_test, y_train, y_test = train_test_split(X_pca_df, y_imputed, test_size=0.2, random_state=42)\n",
        "\n",
        "# Initialize the Support Vector Classifier model\n",
        "svm_model = SVC(random_state=42)\n",
        "\n",
        "# Train the model\n",
        "svm_model.fit(X_train, y_train)\n",
        "\n",
        "# Predict on the test set\n",
        "y_pred = svm_model.predict(X_test)\n",
        "\n",
        "# Evaluate the model (for classification)\n",
        "print(\"Accuracy:\", accuracy_score(y_test, y_pred))\n",
        "print(\"Classification Report:\")\n",
        "print(classification_report(y_test, y_pred))\n"
      ],
      "metadata": {
        "id": "ZtDy2OBrA4zI"
      },
      "execution_count": null,
      "outputs": []
    },
    {
      "cell_type": "code",
      "source": [],
      "metadata": {
        "id": "yQuY8VdTtIiv"
      },
      "execution_count": null,
      "outputs": []
    }
  ]
}